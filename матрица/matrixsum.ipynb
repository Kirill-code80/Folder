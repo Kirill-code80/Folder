{
 "cells": [
  {
   "cell_type": "code",
   "execution_count": null,
   "metadata": {},
   "outputs": [],
   "source": [
    "from random import randint\n",
    "N = 3\n",
    "M = 4\n",
    "a = []\n",
    "for i in range(N):\n",
    "    b = []\n",
    "    for j in range(M):\n",
    "        b.append(randint(-60,99))\n",
    "    a.append(b)\n",
    "print(a, end='\\n\\n')\n",
    "for i in range(N):\n",
    "    for j in range(M):\n",
    "        print(\"%3d\" % a[i][j], end='')\n",
    "    print()\n",
    "for i in range(N):\n",
    "    for j in range(M):\n",
    "        if a[i][j] < 0:\n",
    "            a[i][j]=\"-\"\n",
    "    print()\n",
    "print()\n",
    "for i in range(N):\n",
    "    for j in range(M):\n",
    "        print(\"%3s\" % a[i][j], end='')\n",
    "    print()"
   ]
  },
  {
   "cell_type": "code",
   "execution_count": 4,
   "metadata": {},
   "outputs": [
    {
     "ename": "SyntaxError",
     "evalue": "expression cannot contain assignment, perhaps you meant \"==\"? (Temp/ipykernel_4948/580464664.py, line 15)",
     "output_type": "error",
     "traceback": [
      "\u001b[1;36m  File \u001b[1;32m\"C:\\Users\\NAIT\\AppData\\Local\\Temp/ipykernel_4948/580464664.py\"\u001b[1;36m, line \u001b[1;32m15\u001b[0m\n\u001b[1;33m    print(sum(a[[0][0]]=\"-\"))\u001b[0m\n\u001b[1;37m              ^\u001b[0m\n\u001b[1;31mSyntaxError\u001b[0m\u001b[1;31m:\u001b[0m expression cannot contain assignment, perhaps you meant \"==\"?\n"
     ]
    },
    {
     "ename": "",
     "evalue": "",
     "output_type": "error",
     "traceback": [
      "При выполнении кода в текущей ячейке или предыдущей ячейке ядро аварийно завершило работу. Проверьте код в ячейках, чтобы определить возможную причину сбоя. Щелкните <a href=\"https://aka.ms/vscodeJupyterKernelCrash\">здесь</a> для получения дополнительных сведений. Подробнее см. в <a href='command:jupyter.viewOutput'>журнале Jupyter</a>."
     ]
    }
   ],
   "source": [
    "from random import randint\n",
    "N = 3\n",
    "M = 4\n",
    "a = []\n",
    "for i in range(N):\n",
    "    b = []\n",
    "    for j in range(M):\n",
    "        b.append(randint(-60,99))\n",
    "    a.append(b)\n",
    "print(a, end='\\n\\n')\n",
    "for i in range(N):\n",
    "    for j in range(M):\n",
    "        print(\"%3d\" % a[i][j], end='')\n",
    "    print()\n",
    "print(sum(a[[0][0]]= ))\n"
   ]
  }
 ],
 "metadata": {
  "kernelspec": {
   "display_name": "Python 3.8.0 64-bit",
   "language": "python",
   "name": "python3"
  },
  "language_info": {
   "codemirror_mode": {
    "name": "ipython",
    "version": 3
   },
   "file_extension": ".py",
   "mimetype": "text/x-python",
   "name": "python",
   "nbconvert_exporter": "python",
   "pygments_lexer": "ipython3",
   "version": "3.8.0"
  },
  "orig_nbformat": 4,
  "vscode": {
   "interpreter": {
    "hash": "5075924f1dcda316511d83943c949f668248ca224ee38fd193d18706f67cde21"
   }
  }
 },
 "nbformat": 4,
 "nbformat_minor": 2
}
