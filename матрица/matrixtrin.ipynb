{
 "cells": [
  {
   "cell_type": "markdown",
   "metadata": {},
   "source": [
    "Hello"
   ]
  },
  {
   "cell_type": "code",
   "execution_count": 8,
   "metadata": {},
   "outputs": [
    {
     "name": "stdout",
     "output_type": "stream",
     "text": [
      "[[-49, -27, 82, 23], [23, -56, 46, -33], [-57, 30, 0, 43]]\n",
      "\n",
      "-49-27 82 23\n",
      " 23-56 46-33\n",
      "-57 30  0 43\n",
      "\n",
      "\n",
      "\n",
      "\n",
      "  -  - 82 23\n",
      " 23  - 46  -\n",
      "  - 30  0 43\n"
     ]
    }
   ],
   "source": [
    "from random import randint\n",
    "N = 3\n",
    "M = 4\n",
    "a = []\n",
    "for i in range(N):\n",
    "    b = []\n",
    "    for j in range(M):\n",
    "        b.append(randint(-60,99))\n",
    "    a.append(b)\n",
    "print(a, end='\\n\\n')\n",
    "for i in range(N):\n",
    "    for j in range(M):\n",
    "        print(\"%3d\" % a[i][j], end='')\n",
    "    print()\n",
    "for i in range(N):\n",
    "    for j in range(M):\n",
    "        if a[i][j] < 0:\n",
    "            a[i][j]=\"-\"\n",
    "    print()\n",
    "print()\n",
    "for i in range(N):\n",
    "    for j in range(M):\n",
    "        print(\"%3s\" % a[i][j], end='')\n",
    "    print()"
   ]
  }
 ],
 "metadata": {
  "kernelspec": {
   "display_name": "Python 3.8.0 64-bit",
   "language": "python",
   "name": "python3"
  },
  "language_info": {
   "codemirror_mode": {
    "name": "ipython",
    "version": 3
   },
   "file_extension": ".py",
   "mimetype": "text/x-python",
   "name": "python",
   "nbconvert_exporter": "python",
   "pygments_lexer": "ipython3",
   "version": "3.8.0"
  },
  "orig_nbformat": 4,
  "vscode": {
   "interpreter": {
    "hash": "5075924f1dcda316511d83943c949f668248ca224ee38fd193d18706f67cde21"
   }
  }
 },
 "nbformat": 4,
 "nbformat_minor": 2
}
